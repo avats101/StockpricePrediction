{
 "cells": [
  {
   "cell_type": "code",
   "execution_count": null,
   "metadata": {},
   "outputs": [],
   "source": [
    "import quandl\n",
    "import numpy as np\n",
    "from sklearn.linear_model import LinearRegression\n",
    "from sklearn.model_selection import train_test_split\n",
    "#Get the Stock Data\n",
    "df = quandl.get(\"WIKI/AMZN\",api_key='eHcgUNpundoB4uU7Pyzg') \n",
    "print(df.head())"
   ]
  },
  {
   "cell_type": "code",
   "execution_count": null,
   "metadata": {},
   "outputs": [],
   "source": [
    "#Keeping only Adjusted Close(Adj .Close) as only this will be helpful in predicting stock prices\n",
    "df=df[['Adj. Close']]\n",
    "#Declaring a forecast variable('n' days) to which forecast is to be made 'n' days into the future\n",
    "forecast=30 #This means at a particular day I will be able to know the stock price after 30 days.\n",
    "#Creating a Prediction Column which is a copy of Adj .Close but with 'forcast' number of rows shifted up\n",
    "df['Prediction']=df[['Adj. Close']].shift(-forecast)\n",
    "#Take a look at the new Data\n",
    "print(df.tail())"
   ]
  },
  {
   "cell_type": "code",
   "execution_count": null,
   "metadata": {},
   "outputs": [],
   "source": [
    "#Creating X and y independent and dependent variables respectively \n",
    "X= np.array(df.drop(['Prediction'],1))#Dropping the prediction Column\n",
    "X=X[:-forecast] #Deleting the last 'n' rows\n",
    "y=np.array(df.drop(['Adj. Close'],1))#Dropping the Adj Close Column\n",
    "y=y[:-forecast] #Deleting the last 'n' rows\n"
   ]
  },
  {
   "cell_type": "code",
   "execution_count": null,
   "metadata": {},
   "outputs": [],
   "source": [
    "X_train,X_test,y_train,y_test=train_test_split(X,y,test_size=0.2) #Split the data into train and test\n"
   ]
  },
  {
   "cell_type": "code",
   "execution_count": null,
   "metadata": {},
   "outputs": [],
   "source": [
    "lr=LinearRegression()\n",
    "lr.fit(X_train,y_train)\n",
    "accuracy=lr.score(X_test,y_test)\n",
    "print(\"Accuracy:\",accuracy)\n"
   ]
  },
  {
   "cell_type": "code",
   "execution_count": null,
   "metadata": {},
   "outputs": [],
   "source": [
    "#Now when we have made the model now is the forecast time,so we use the last 'n' rows of the df\n",
    "#creating X_forecast which will store the 'n' rows Adj .Close values\n",
    "x_forecast=np.array(df.drop(['Prediction'],1))\n",
    "x_forecast=x_forecast[-forecast:]\n"
   ]
  },
  {
   "cell_type": "code",
   "execution_count": null,
   "metadata": {},
   "outputs": [],
   "source": [
    "#using X_forecast to make prediction for the 'n' days using the model created\n",
    "x_prediction=lr.predict(x_forecast)\n",
    "print(x_prediction)\n"
   ]
  },
  {
   "cell_type": "code",
   "execution_count": null,
   "metadata": {},
   "outputs": [],
   "source": []
  }
 ],
 "metadata": {
  "kernelspec": {
   "display_name": "Python 3",
   "language": "python",
   "name": "python3"
  },
  "language_info": {
   "codemirror_mode": {
    "name": "ipython",
    "version": 3
   },
   "file_extension": ".py",
   "mimetype": "text/x-python",
   "name": "python",
   "nbconvert_exporter": "python",
   "pygments_lexer": "ipython3",
   "version": "3.7.4"
  }
 },
 "nbformat": 4,
 "nbformat_minor": 4
}
