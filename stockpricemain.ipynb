{
 "cells": [
  {
   "cell_type": "code",
   "execution_count": 1,
   "metadata": {},
   "outputs": [
    {
     "name": "stdout",
     "output_type": "stream",
     "text": [
      "             Open   High    Low  Close     Volume  Ex-Dividend  Split Ratio  \\\n",
      "Date                                                                          \n",
      "1997-05-16  22.38  23.75  20.50  20.75  1225000.0          0.0          1.0   \n",
      "1997-05-19  20.50  21.25  19.50  20.50   508900.0          0.0          1.0   \n",
      "1997-05-20  20.75  21.00  19.63  19.63   455600.0          0.0          1.0   \n",
      "1997-05-21  19.25  19.75  16.50  17.13  1571100.0          0.0          1.0   \n",
      "1997-05-22  17.25  17.38  15.75  16.75   981400.0          0.0          1.0   \n",
      "\n",
      "            Adj. Open  Adj. High  Adj. Low  Adj. Close  Adj. Volume  \n",
      "Date                                                                 \n",
      "1997-05-16   1.865000   1.979167  1.708333    1.729167   14700000.0  \n",
      "1997-05-19   1.708333   1.770833  1.625000    1.708333    6106800.0  \n",
      "1997-05-20   1.729167   1.750000  1.635833    1.635833    5467200.0  \n",
      "1997-05-21   1.604167   1.645833  1.375000    1.427500   18853200.0  \n",
      "1997-05-22   1.437500   1.448333  1.312500    1.395833   11776800.0  \n"
     ]
    }
   ],
   "source": [
    "import quandl\n",
    "import numpy as np\n",
    "from sklearn.linear_model import LinearRegression\n",
    "from sklearn.model_selection import train_test_split\n",
    "#Get the Stock Data\n",
    "df = quandl.get(\"WIKI/AMZN\",api_key='eHcgUNpundoB4uU7Pyzg') \n",
    "print(df.head())"
   ]
  },
  {
   "cell_type": "code",
   "execution_count": 2,
   "metadata": {},
   "outputs": [
    {
     "name": "stdout",
     "output_type": "stream",
     "text": [
      "            Adj. Close  Prediction\n",
      "Date                              \n",
      "2018-03-21     1581.86         NaN\n",
      "2018-03-22     1544.10         NaN\n",
      "2018-03-23     1495.56         NaN\n",
      "2018-03-26     1555.86         NaN\n",
      "2018-03-27     1497.05         NaN\n"
     ]
    }
   ],
   "source": [
    "#Keeping only Adjusted Close(Adj .Close) as only this will be helpful in predicting stock prices\n",
    "df=df[['Adj. Close']]\n",
    "#Declaring a forecast variable('n' days) to which forecast is to be made 'n' days into the future\n",
    "forecast=30 #This means at a particular day I will be able to know the stock price after 30 days.\n",
    "#Creating a Prediction Column which is a copy of Adj .Close but with 'forcast' number of rows shifted up\n",
    "df['Prediction']=df[['Adj. Close']].shift(-forecast)\n",
    "#Take a look at the new Data\n",
    "print(df.tail())"
   ]
  },
  {
   "cell_type": "code",
   "execution_count": 3,
   "metadata": {},
   "outputs": [],
   "source": [
    "#Creating X and y independent and dependent variables respectively \n",
    "X= np.array(df.drop(['Prediction'],1))#Dropping the prediction Column\n",
    "X=X[:-forecast] #Deleting the last 'n' rows\n",
    "y=np.array(df.drop(['Adj. Close'],1))#Dropping the Adj Close Column\n",
    "y=y[:-forecast] #Deleting the last 'n' rows\n"
   ]
  },
  {
   "cell_type": "code",
   "execution_count": 4,
   "metadata": {},
   "outputs": [],
   "source": [
    "X_train,X_test,y_train,y_test=train_test_split(X,y,test_size=0.2) #Split the data into train and test\n"
   ]
  },
  {
   "cell_type": "code",
   "execution_count": 5,
   "metadata": {},
   "outputs": [
    {
     "name": "stdout",
     "output_type": "stream",
     "text": [
      "Accuracy: 0.9900324248606281\n"
     ]
    }
   ],
   "source": [
    "lr=LinearRegression()\n",
    "lr.fit(X_train,y_train)\n",
    "accuracy=lr.score(X_test,y_test)\n",
    "print(\"Accuracy:\",accuracy)\n"
   ]
  },
  {
   "cell_type": "code",
   "execution_count": 6,
   "metadata": {},
   "outputs": [],
   "source": [
    "#Now when we have made the model now is the forecast time,so we use the last 'n' rows of the df\n",
    "#creating X_forecast which will store the 'n' rows Adj .Close values\n",
    "x_forecast=np.array(df.drop(['Prediction'],1))\n",
    "x_forecast=x_forecast[-forecast:]\n"
   ]
  },
  {
   "cell_type": "code",
   "execution_count": 7,
   "metadata": {},
   "outputs": [
    {
     "name": "stdout",
     "output_type": "stream",
     "text": [
      "[[1498.35596148]\n",
      " [1537.14740386]\n",
      " [1548.51730939]\n",
      " [1534.6419905 ]\n",
      " [1555.5133577 ]\n",
      " [1570.98110032]\n",
      " [1572.93447344]\n",
      " [1589.11349867]\n",
      " [1612.41596611]\n",
      " [1601.8316563 ]\n",
      " [1602.33061574]\n",
      " [1582.159915  ]\n",
      " [1589.37890263]\n",
      " [1614.17824839]\n",
      " [1629.07271847]\n",
      " [1636.88621097]\n",
      " [1644.16889555]\n",
      " [1672.8643714 ]\n",
      " [1693.56588006]\n",
      " [1682.72678245]\n",
      " [1685.72053908]\n",
      " [1676.50571369]\n",
      " [1665.21012127]\n",
      " [1636.81189786]\n",
      " [1680.95388401]\n",
      " [1676.01737041]\n",
      " [1635.93075672]\n",
      " [1584.39992439]\n",
      " [1648.41535886]\n",
      " [1585.98173198]]\n"
     ]
    }
   ],
   "source": [
    "#using X_forecast to make prediction for the 'n' days using the model created\n",
    "x_prediction=lr.predict(x_forecast)\n",
    "print(x_prediction)\n"
   ]
  },
  {
   "cell_type": "code",
   "execution_count": null,
   "metadata": {},
   "outputs": [],
   "source": []
  }
 ],
 "metadata": {
  "kernelspec": {
   "display_name": "Python 3",
   "language": "python",
   "name": "python3"
  },
  "language_info": {
   "codemirror_mode": {
    "name": "ipython",
    "version": 3
   },
   "file_extension": ".py",
   "mimetype": "text/x-python",
   "name": "python",
   "nbconvert_exporter": "python",
   "pygments_lexer": "ipython3",
   "version": "3.7.4"
  }
 },
 "nbformat": 4,
 "nbformat_minor": 4
}
