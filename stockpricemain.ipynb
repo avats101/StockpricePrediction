{
 "cells": [
  {
   "cell_type": "code",
   "execution_count": 25,
   "metadata": {},
   "outputs": [
    {
     "name": "stdout",
     "output_type": "stream",
     "text": [
      "             Open   High    Low  Close     Volume  Ex-Dividend  Split Ratio  \\\n",
      "Date                                                                          \n",
      "1997-05-16  22.38  23.75  20.50  20.75  1225000.0          0.0          1.0   \n",
      "1997-05-19  20.50  21.25  19.50  20.50   508900.0          0.0          1.0   \n",
      "1997-05-20  20.75  21.00  19.63  19.63   455600.0          0.0          1.0   \n",
      "1997-05-21  19.25  19.75  16.50  17.13  1571100.0          0.0          1.0   \n",
      "1997-05-22  17.25  17.38  15.75  16.75   981400.0          0.0          1.0   \n",
      "\n",
      "            Adj. Open  Adj. High  Adj. Low  Adj. Close  Adj. Volume  \n",
      "Date                                                                 \n",
      "1997-05-16   1.865000   1.979167  1.708333    1.729167   14700000.0  \n",
      "1997-05-19   1.708333   1.770833  1.625000    1.708333    6106800.0  \n",
      "1997-05-20   1.729167   1.750000  1.635833    1.635833    5467200.0  \n",
      "1997-05-21   1.604167   1.645833  1.375000    1.427500   18853200.0  \n",
      "1997-05-22   1.437500   1.448333  1.312500    1.395833   11776800.0  \n"
     ]
    }
   ],
   "source": [
    "import quandl\n",
    "import numpy as np\n",
    "from sklearn.linear_model import LinearRegression\n",
    "from sklearn.model_selection import train_test_split\n",
    "#Get the Stock Data\n",
    "df = quandl.get(\"WIKI/AMZN\",api_key='eHcgUNpundoB4uU7Pyzg') \n",
    "print(df.head())"
   ]
  },
  {
   "cell_type": "code",
   "execution_count": 26,
   "metadata": {},
   "outputs": [
    {
     "name": "stdout",
     "output_type": "stream",
     "text": [
      "            Adj. Close  Prediction\n",
      "Date                              \n",
      "2018-03-21     1581.86         NaN\n",
      "2018-03-22     1544.10         NaN\n",
      "2018-03-23     1495.56         NaN\n",
      "2018-03-26     1555.86         NaN\n",
      "2018-03-27     1497.05         NaN\n"
     ]
    }
   ],
   "source": [
    "#Keeping only Adjusted Close(Adj .Close) as only this will be helpful in predicting stock prices\n",
    "df=df[['Adj. Close']]\n",
    "#Declaring a forecast variable('n' days) to which forecast is to be made 'n' days into the future\n",
    "forecast=30 #This means at a particular day I will be able to know the stock price after 30 days.\n",
    "#Creating a Prediction Column which is a copy of Adj .Close but with 'forcast' number of rows shifted up\n",
    "df['Prediction']=df[['Adj. Close']].shift(-forecast)\n",
    "#Take a look at the new Data\n",
    "print(df.tail())"
   ]
  },
  {
   "cell_type": "code",
   "execution_count": 28,
   "metadata": {},
   "outputs": [],
   "source": [
    "#Creating X and y independent and dependent variables respectively \n",
    "X= np.array(df.drop(['Prediction'],1))#Dropping the prediction Column\n",
    "X=X[:-forecast] #Deleting the last 'n' rows\n",
    "y=np.array(df.drop(['Adj. Close'],1))#Dropping the Adj Close Column\n",
    "y=y[:-forecast] #Deleting the last 'n' rows\n"
   ]
  },
  {
   "cell_type": "code",
   "execution_count": 29,
   "metadata": {},
   "outputs": [],
   "source": [
    "X_train,X_test,y_train,y_test=train_test_split(X,y,test_size=0.2) #Split the data into train and test\n"
   ]
  },
  {
   "cell_type": "code",
   "execution_count": 30,
   "metadata": {},
   "outputs": [
    {
     "name": "stdout",
     "output_type": "stream",
     "text": [
      "Accuracy: 0.9868102160326717\n"
     ]
    }
   ],
   "source": [
    "lr=LinearRegression()\n",
    "lr.fit(X_train,y_train)\n",
    "accuracy=lr.score(X_test,y_test)\n",
    "print(\"Accuracy:\",accuracy)\n"
   ]
  },
  {
   "cell_type": "code",
   "execution_count": 31,
   "metadata": {},
   "outputs": [
    {
     "name": "stdout",
     "output_type": "stream",
     "text": [
      "[[1414.51]\n",
      " [1451.05]\n",
      " [1461.76]\n",
      " [1448.69]\n",
      " [1468.35]\n",
      " [1482.92]\n",
      " [1484.76]\n",
      " [1500.  ]\n",
      " [1521.95]\n",
      " [1511.98]\n",
      " [1512.45]\n",
      " [1493.45]\n",
      " [1500.25]\n",
      " [1523.61]\n",
      " [1537.64]\n",
      " [1545.  ]\n",
      " [1551.86]\n",
      " [1578.89]\n",
      " [1598.39]\n",
      " [1588.18]\n",
      " [1591.  ]\n",
      " [1582.32]\n",
      " [1571.68]\n",
      " [1544.93]\n",
      " [1586.51]\n",
      " [1581.86]\n",
      " [1544.1 ]\n",
      " [1495.56]\n",
      " [1555.86]\n",
      " [1497.05]]\n"
     ]
    }
   ],
   "source": [
    "#Now when we have made the model now is the forecast time,so we use the last 'n' rows of the df\n",
    "#creating X_forecast which will store the 'n' rows Adj .Close values\n",
    "x_forecast=np.array(df.drop(['Prediction'],1))\n",
    "x_forecast=x_forecast[-forecast:]\n",
    "print(x_forecast)"
   ]
  },
  {
   "cell_type": "code",
   "execution_count": 32,
   "metadata": {},
   "outputs": [
    {
     "name": "stdout",
     "output_type": "stream",
     "text": [
      "[[1497.19691873]\n",
      " [1535.95081027]\n",
      " [1547.30970952]\n",
      " [1533.44782221]\n",
      " [1554.29898553]\n",
      " [1569.75175509]\n",
      " [1571.70323731]\n",
      " [1587.86660094]\n",
      " [1611.14651116]\n",
      " [1600.57244716]\n",
      " [1601.07092359]\n",
      " [1580.91974846]\n",
      " [1588.13174798]\n",
      " [1612.90708751]\n",
      " [1627.78713947]\n",
      " [1635.59306836]\n",
      " [1642.86870317]\n",
      " [1671.53640127]\n",
      " [1692.21787048]\n",
      " [1681.38926532]\n",
      " [1684.38012394]\n",
      " [1675.17421867]\n",
      " [1663.8895606 ]\n",
      " [1635.51882719]\n",
      " [1679.61808308]\n",
      " [1674.68634812]\n",
      " [1634.63853901]\n",
      " [1583.15758949]\n",
      " [1647.11105583]\n",
      " [1584.73786586]]\n"
     ]
    }
   ],
   "source": [
    "#using X_forecast to make prediction for the 'n' days using the model created\n",
    "x_prediction=lr.predict(x_forecast)\n",
    "print(x_prediction)\n"
   ]
  }
 ],
 "metadata": {
  "kernelspec": {
   "display_name": "Python 3",
   "language": "python",
   "name": "python3"
  },
  "language_info": {
   "codemirror_mode": {
    "name": "ipython",
    "version": 3
   },
   "file_extension": ".py",
   "mimetype": "text/x-python",
   "name": "python",
   "nbconvert_exporter": "python",
   "pygments_lexer": "ipython3",
   "version": "3.7.4"
  }
 },
 "nbformat": 4,
 "nbformat_minor": 4
}
